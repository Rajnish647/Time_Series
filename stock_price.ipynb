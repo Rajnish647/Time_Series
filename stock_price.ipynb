{
 "cells": [
  {
   "cell_type": "code",
   "execution_count": 1,
   "id": "8095c62b",
   "metadata": {},
   "outputs": [],
   "source": [
    "import pandas as pd\n",
    "import numpy as np\n",
    "import matplotlib.pyplot as plt"
   ]
  },
  {
   "cell_type": "code",
   "execution_count": 5,
   "id": "0c654a4d",
   "metadata": {},
   "outputs": [],
   "source": [
    "import tensorflow as tf"
   ]
  },
  {
   "cell_type": "code",
   "execution_count": 27,
   "id": "21f75ded",
   "metadata": {},
   "outputs": [],
   "source": [
    "dataset_train = pd.read_csv('Google_Stock_Price_Train.csv')"
   ]
  },
  {
   "cell_type": "code",
   "execution_count": 28,
   "id": "f2682cf6",
   "metadata": {},
   "outputs": [
    {
     "data": {
      "text/html": [
       "<div>\n",
       "<style scoped>\n",
       "    .dataframe tbody tr th:only-of-type {\n",
       "        vertical-align: middle;\n",
       "    }\n",
       "\n",
       "    .dataframe tbody tr th {\n",
       "        vertical-align: top;\n",
       "    }\n",
       "\n",
       "    .dataframe thead th {\n",
       "        text-align: right;\n",
       "    }\n",
       "</style>\n",
       "<table border=\"1\" class=\"dataframe\">\n",
       "  <thead>\n",
       "    <tr style=\"text-align: right;\">\n",
       "      <th></th>\n",
       "      <th>Date</th>\n",
       "      <th>Open</th>\n",
       "      <th>High</th>\n",
       "      <th>Low</th>\n",
       "      <th>Close</th>\n",
       "      <th>Volume</th>\n",
       "    </tr>\n",
       "  </thead>\n",
       "  <tbody>\n",
       "    <tr>\n",
       "      <th>0</th>\n",
       "      <td>1/3/2012</td>\n",
       "      <td>325.25</td>\n",
       "      <td>332.83</td>\n",
       "      <td>324.97</td>\n",
       "      <td>663.59</td>\n",
       "      <td>7,380,500</td>\n",
       "    </tr>\n",
       "    <tr>\n",
       "      <th>1</th>\n",
       "      <td>1/4/2012</td>\n",
       "      <td>331.27</td>\n",
       "      <td>333.87</td>\n",
       "      <td>329.08</td>\n",
       "      <td>666.45</td>\n",
       "      <td>5,749,400</td>\n",
       "    </tr>\n",
       "    <tr>\n",
       "      <th>2</th>\n",
       "      <td>1/5/2012</td>\n",
       "      <td>329.83</td>\n",
       "      <td>330.75</td>\n",
       "      <td>326.89</td>\n",
       "      <td>657.21</td>\n",
       "      <td>6,590,300</td>\n",
       "    </tr>\n",
       "    <tr>\n",
       "      <th>3</th>\n",
       "      <td>1/6/2012</td>\n",
       "      <td>328.34</td>\n",
       "      <td>328.77</td>\n",
       "      <td>323.68</td>\n",
       "      <td>648.24</td>\n",
       "      <td>5,405,900</td>\n",
       "    </tr>\n",
       "    <tr>\n",
       "      <th>4</th>\n",
       "      <td>1/9/2012</td>\n",
       "      <td>322.04</td>\n",
       "      <td>322.29</td>\n",
       "      <td>309.46</td>\n",
       "      <td>620.76</td>\n",
       "      <td>11,688,800</td>\n",
       "    </tr>\n",
       "  </tbody>\n",
       "</table>\n",
       "</div>"
      ],
      "text/plain": [
       "       Date    Open    High     Low   Close      Volume\n",
       "0  1/3/2012  325.25  332.83  324.97  663.59   7,380,500\n",
       "1  1/4/2012  331.27  333.87  329.08  666.45   5,749,400\n",
       "2  1/5/2012  329.83  330.75  326.89  657.21   6,590,300\n",
       "3  1/6/2012  328.34  328.77  323.68  648.24   5,405,900\n",
       "4  1/9/2012  322.04  322.29  309.46  620.76  11,688,800"
      ]
     },
     "execution_count": 28,
     "metadata": {},
     "output_type": "execute_result"
    }
   ],
   "source": [
    "dataset_train.head()"
   ]
  },
  {
   "cell_type": "code",
   "execution_count": 29,
   "id": "43f4e890",
   "metadata": {},
   "outputs": [],
   "source": [
    "train_set = dataset_train.iloc[:, 1:2].values"
   ]
  },
  {
   "cell_type": "code",
   "execution_count": 30,
   "id": "5e94a087",
   "metadata": {},
   "outputs": [
    {
     "data": {
      "text/plain": [
       "[<matplotlib.lines.Line2D at 0x249ce17c910>]"
      ]
     },
     "execution_count": 30,
     "metadata": {},
     "output_type": "execute_result"
    },
    {
     "data": {
      "image/png": "[encoded data removed]",
      "text/plain": [
       "<Figure size 432x288 with 1 Axes>"
      ]
     },
     "metadata": {
      "needs_background": "light"
     },
     "output_type": "display_data"
    }
   ],
   "source": [
    "plt.plot(train_set)"
   ]
  },
  {
   "cell_type": "code",
   "execution_count": 31,
   "id": "bdbd02ce",
   "metadata": {},
   "outputs": [],
   "source": [
    "from sklearn.preprocessing import MinMaxScaler"
   ]
  },
  {
   "cell_type": "code",
   "execution_count": 32,
   "id": "ae00cc10",
   "metadata": {},
   "outputs": [],
   "source": [
    "sc = MinMaxScaler()"
   ]
  },
  {
   "cell_type": "code",
   "execution_count": 33,
   "id": "00380d3d",
   "metadata": {},
   "outputs": [],
   "source": [
    "train_set_scaled = sc.fit_transform(train_set)"
   ]
  },
  {
   "cell_type": "code",
   "execution_count": 34,
   "id": "5ebc8788",
   "metadata": {},
   "outputs": [
    {
     "data": {
      "text/plain": [
       "[<matplotlib.lines.Line2D at 0x249ce4bc9d0>]"
      ]
     },
     "execution_count": 34,
     "metadata": {},
     "output_type": "execute_result"
    },
    {
     "data": {
      "image/png": "[encoded data removed]",
      "text/plain": [
       "<Figure size 432x288 with 1 Axes>"
      ]
     },
     "metadata": {
      "needs_background": "light"
     },
     "output_type": "display_data"
    }
   ],
   "source": [
    "plt.plot(train_set_scaled)"
   ]
  },
  {
   "cell_type": "code",
   "execution_count": 35,
   "id": "1fd44983",
   "metadata": {},
   "outputs": [
    {
     "data": {
      "text/plain": [
       "(1258, 1)"
      ]
     },
     "execution_count": 35,
     "metadata": {},
     "output_type": "execute_result"
    }
   ],
   "source": [
    "train_set_scaled.shape"
   ]
  },
  {
   "cell_type": "code",
   "execution_count": 36,
   "id": "122e3af0",
   "metadata": {},
   "outputs": [],
   "source": [
    "X_train = []\n",
    "y_train = []\n",
    "for i in range(60,1258):\n",
    "    X_train.append(train_set_scaled[i-60:i,0])\n",
    "    y_train.append(train_set_scaled[i,0])"
   ]
  },
  {
   "cell_type": "code",
   "execution_count": 37,
   "id": "70f88c75",
   "metadata": {},
   "outputs": [],
   "source": [
    "X_train, y_train = np.array(X_train), np.array(y_train)"
   ]
  },
  {
   "cell_type": "code",
   "execution_count": 38,
   "id": "9d1fc9cb",
   "metadata": {},
   "outputs": [
    {
     "data": {
      "text/plain": [
       "(1198, 60)"
      ]
     },
     "execution_count": 38,
     "metadata": {},
     "output_type": "execute_result"
    }
   ],
   "source": [
    "X_train.shape"
   ]
  },
  {
   "cell_type": "code",
   "execution_count": 39,
   "id": "906093a1",
   "metadata": {},
   "outputs": [
    {
     "data": {
      "text/plain": [
       "(1198,)"
      ]
     },
     "execution_count": 39,
     "metadata": {},
     "output_type": "execute_result"
    }
   ],
   "source": [
    "y_train.shape"
   ]
  },
  {
   "cell_type": "code",
   "execution_count": 40,
   "id": "7d054b51",
   "metadata": {},
   "outputs": [
    {
     "data": {
      "text/plain": [
       "1198"
      ]
     },
     "execution_count": 40,
     "metadata": {},
     "output_type": "execute_result"
    }
   ],
   "source": [
    "X_train.shape[0]"
   ]
  },
  {
   "cell_type": "code",
   "execution_count": 41,
   "id": "379b3b12",
   "metadata": {
    "scrolled": true
   },
   "outputs": [
    {
     "data": {
      "text/plain": [
       "60"
      ]
     },
     "execution_count": 41,
     "metadata": {},
     "output_type": "execute_result"
    }
   ],
   "source": [
    "X_train.shape[1]"
   ]
  },
  {
   "cell_type": "code",
   "execution_count": 42,
   "id": "37a3329b",
   "metadata": {},
   "outputs": [],
   "source": [
    "df =pd.DataFrame(X_train)"
   ]
  },
  {
   "cell_type": "code",
   "execution_count": 43,
   "id": "b81050af",
   "metadata": {},
   "outputs": [],
   "source": [
    "X_train = np.reshape(X_train, (X_train.shape[0], X_train.shape[1], 1))"
   ]
  },
  {
   "cell_type": "code",
   "execution_count": 44,
   "id": "1728ab65",
   "metadata": {},
   "outputs": [
    {
     "data": {
      "text/plain": [
       "(1198, 60, 1)"
      ]
     },
     "execution_count": 44,
     "metadata": {},
     "output_type": "execute_result"
    }
   ],
   "source": [
    "X_train.shape"
   ]
  },
  {
   "cell_type": "code",
   "execution_count": 47,
   "id": "12e32dd5",
   "metadata": {},
   "outputs": [],
   "source": [
    "y = pd.DataFrame(y_train, columns = ['y'])"
   ]
  },
  {
   "cell_type": "code",
   "execution_count": 45,
   "id": "3de4bff8",
   "metadata": {},
   "outputs": [
    {
     "data": {
      "text/html": [
       "<div>\n",
       "<style scoped>\n",
       "    .dataframe tbody tr th:only-of-type {\n",
       "        vertical-align: middle;\n",
       "    }\n",
       "\n",
       "    .dataframe tbody tr th {\n",
       "        vertical-align: top;\n",
       "    }\n",
       "\n",
       "    .dataframe thead th {\n",
       "        text-align: right;\n",
       "    }\n",
       "</style>\n",
       "<table border=\"1\" class=\"dataframe\">\n",
       "  <thead>\n",
       "    <tr style=\"text-align: right;\">\n",
       "      <th></th>\n",
       "      <th>0</th>\n",
       "      <th>1</th>\n",
       "      <th>2</th>\n",
       "      <th>3</th>\n",
       "      <th>4</th>\n",
       "      <th>5</th>\n",
       "      <th>6</th>\n",
       "      <th>7</th>\n",
       "      <th>8</th>\n",
       "      <th>9</th>\n",
       "      <th>...</th>\n",
       "      <th>50</th>\n",
       "      <th>51</th>\n",
       "      <th>52</th>\n",
       "      <th>53</th>\n",
       "      <th>54</th>\n",
       "      <th>55</th>\n",
       "      <th>56</th>\n",
       "      <th>57</th>\n",
       "      <th>58</th>\n",
       "      <th>59</th>\n",
       "    </tr>\n",
       "  </thead>\n",
       "  <tbody>\n",
       "    <tr>\n",
       "      <th>0</th>\n",
       "      <td>0.085814</td>\n",
       "      <td>0.097012</td>\n",
       "      <td>0.094334</td>\n",
       "      <td>0.091562</td>\n",
       "      <td>0.079842</td>\n",
       "      <td>0.064328</td>\n",
       "      <td>0.058542</td>\n",
       "      <td>0.065686</td>\n",
       "      <td>0.061091</td>\n",
       "      <td>0.066393</td>\n",
       "      <td>...</td>\n",
       "      <td>0.052143</td>\n",
       "      <td>0.056124</td>\n",
       "      <td>0.058189</td>\n",
       "      <td>0.065407</td>\n",
       "      <td>0.068830</td>\n",
       "      <td>0.072438</td>\n",
       "      <td>0.079935</td>\n",
       "      <td>0.078466</td>\n",
       "      <td>0.080345</td>\n",
       "      <td>0.084977</td>\n",
       "    </tr>\n",
       "    <tr>\n",
       "      <th>1</th>\n",
       "      <td>0.097012</td>\n",
       "      <td>0.094334</td>\n",
       "      <td>0.091562</td>\n",
       "      <td>0.079842</td>\n",
       "      <td>0.064328</td>\n",
       "      <td>0.058542</td>\n",
       "      <td>0.065686</td>\n",
       "      <td>0.061091</td>\n",
       "      <td>0.066393</td>\n",
       "      <td>0.061426</td>\n",
       "      <td>...</td>\n",
       "      <td>0.056124</td>\n",
       "      <td>0.058189</td>\n",
       "      <td>0.065407</td>\n",
       "      <td>0.068830</td>\n",
       "      <td>0.072438</td>\n",
       "      <td>0.079935</td>\n",
       "      <td>0.078466</td>\n",
       "      <td>0.080345</td>\n",
       "      <td>0.084977</td>\n",
       "      <td>0.086279</td>\n",
       "    </tr>\n",
       "    <tr>\n",
       "      <th>2</th>\n",
       "      <td>0.094334</td>\n",
       "      <td>0.091562</td>\n",
       "      <td>0.079842</td>\n",
       "      <td>0.064328</td>\n",
       "      <td>0.058542</td>\n",
       "      <td>0.065686</td>\n",
       "      <td>0.061091</td>\n",
       "      <td>0.066393</td>\n",
       "      <td>0.061426</td>\n",
       "      <td>0.074745</td>\n",
       "      <td>...</td>\n",
       "      <td>0.058189</td>\n",
       "      <td>0.065407</td>\n",
       "      <td>0.068830</td>\n",
       "      <td>0.072438</td>\n",
       "      <td>0.079935</td>\n",
       "      <td>0.078466</td>\n",
       "      <td>0.080345</td>\n",
       "      <td>0.084977</td>\n",
       "      <td>0.086279</td>\n",
       "      <td>0.084716</td>\n",
       "    </tr>\n",
       "    <tr>\n",
       "      <th>3</th>\n",
       "      <td>0.091562</td>\n",
       "      <td>0.079842</td>\n",
       "      <td>0.064328</td>\n",
       "      <td>0.058542</td>\n",
       "      <td>0.065686</td>\n",
       "      <td>0.061091</td>\n",
       "      <td>0.066393</td>\n",
       "      <td>0.061426</td>\n",
       "      <td>0.074745</td>\n",
       "      <td>0.027978</td>\n",
       "      <td>...</td>\n",
       "      <td>0.065407</td>\n",
       "      <td>0.068830</td>\n",
       "      <td>0.072438</td>\n",
       "      <td>0.079935</td>\n",
       "      <td>0.078466</td>\n",
       "      <td>0.080345</td>\n",
       "      <td>0.084977</td>\n",
       "      <td>0.086279</td>\n",
       "      <td>0.084716</td>\n",
       "      <td>0.074541</td>\n",
       "    </tr>\n",
       "    <tr>\n",
       "      <th>4</th>\n",
       "      <td>0.079842</td>\n",
       "      <td>0.064328</td>\n",
       "      <td>0.058542</td>\n",
       "      <td>0.065686</td>\n",
       "      <td>0.061091</td>\n",
       "      <td>0.066393</td>\n",
       "      <td>0.061426</td>\n",
       "      <td>0.074745</td>\n",
       "      <td>0.027978</td>\n",
       "      <td>0.023793</td>\n",
       "      <td>...</td>\n",
       "      <td>0.068830</td>\n",
       "      <td>0.072438</td>\n",
       "      <td>0.079935</td>\n",
       "      <td>0.078466</td>\n",
       "      <td>0.080345</td>\n",
       "      <td>0.084977</td>\n",
       "      <td>0.086279</td>\n",
       "      <td>0.084716</td>\n",
       "      <td>0.074541</td>\n",
       "      <td>0.078838</td>\n",
       "    </tr>\n",
       "  </tbody>\n",
       "</table>\n",
       "<p>5 rows × 60 columns</p>\n",
       "</div>"
      ],
      "text/plain": [
       "         0         1         2         3         4         5         6   \\\n",
       "0  0.085814  0.097012  0.094334  0.091562  0.079842  0.064328  0.058542   \n",
       "1  0.097012  0.094334  0.091562  0.079842  0.064328  0.058542  0.065686   \n",
       "2  0.094334  0.091562  0.079842  0.064328  0.058542  0.065686  0.061091   \n",
       "3  0.091562  0.079842  0.064328  0.058542  0.065686  0.061091  0.066393   \n",
       "4  0.079842  0.064328  0.058542  0.065686  0.061091  0.066393  0.061426   \n",
       "\n",
       "         7         8         9   ...        50        51        52        53  \\\n",
       "0  0.065686  0.061091  0.066393  ...  0.052143  0.056124  0.058189  0.065407   \n",
       "1  0.061091  0.066393  0.061426  ...  0.056124  0.058189  0.065407  0.068830   \n",
       "2  0.066393  0.061426  0.074745  ...  0.058189  0.065407  0.068830  0.072438   \n",
       "3  0.061426  0.074745  0.027978  ...  0.065407  0.068830  0.072438  0.079935   \n",
       "4  0.074745  0.027978  0.023793  ...  0.068830  0.072438  0.079935  0.078466   \n",
       "\n",
       "         54        55        56        57        58        59  \n",
       "0  0.068830  0.072438  0.079935  0.078466  0.080345  0.084977  \n",
       "1  0.072438  0.079935  0.078466  0.080345  0.084977  0.086279  \n",
       "2  0.079935  0.078466  0.080345  0.084977  0.086279  0.084716  \n",
       "3  0.078466  0.080345  0.084977  0.086279  0.084716  0.074541  \n",
       "4  0.080345  0.084977  0.086279  0.084716  0.074541  0.078838  \n",
       "\n",
       "[5 rows x 60 columns]"
      ]
     },
     "execution_count": 45,
     "metadata": {},
     "output_type": "execute_result"
    }
   ],
   "source": [
    "df.head()"
   ]
  },
  {
   "cell_type": "code",
   "execution_count": 48,
   "id": "a62da5d4",
   "metadata": {},
   "outputs": [
    {
     "data": {
      "text/html": [
       "<div>\n",
       "<style scoped>\n",
       "    .dataframe tbody tr th:only-of-type {\n",
       "        vertical-align: middle;\n",
       "    }\n",
       "\n",
       "    .dataframe tbody tr th {\n",
       "        vertical-align: top;\n",
       "    }\n",
       "\n",
       "    .dataframe thead th {\n",
       "        text-align: right;\n",
       "    }\n",
       "</style>\n",
       "<table border=\"1\" class=\"dataframe\">\n",
       "  <thead>\n",
       "    <tr style=\"text-align: right;\">\n",
       "      <th></th>\n",
       "      <th>y</th>\n",
       "    </tr>\n",
       "  </thead>\n",
       "  <tbody>\n",
       "    <tr>\n",
       "      <th>0</th>\n",
       "      <td>0.086279</td>\n",
       "    </tr>\n",
       "    <tr>\n",
       "      <th>1</th>\n",
       "      <td>0.084716</td>\n",
       "    </tr>\n",
       "    <tr>\n",
       "      <th>2</th>\n",
       "      <td>0.074541</td>\n",
       "    </tr>\n",
       "    <tr>\n",
       "      <th>3</th>\n",
       "      <td>0.078838</td>\n",
       "    </tr>\n",
       "    <tr>\n",
       "      <th>4</th>\n",
       "      <td>0.072383</td>\n",
       "    </tr>\n",
       "  </tbody>\n",
       "</table>\n",
       "</div>"
      ],
      "text/plain": [
       "          y\n",
       "0  0.086279\n",
       "1  0.084716\n",
       "2  0.074541\n",
       "3  0.078838\n",
       "4  0.072383"
      ]
     },
     "execution_count": 48,
     "metadata": {},
     "output_type": "execute_result"
    }
   ],
   "source": [
    "y.head()"
   ]
  },
  {
   "cell_type": "code",
   "execution_count": 49,
   "id": "4c9e16bd",
   "metadata": {},
   "outputs": [],
   "source": [
    "df_final = pd.concat([df,y], axis = 1)"
   ]
  },
  {
   "cell_type": "markdown",
   "id": "928dd841",
   "metadata": {},
   "source": [
    "Our DataFrame for Time Series will look like df_final "
   ]
  },
  {
   "cell_type": "code",
   "execution_count": 50,
   "id": "3b1f3654",
   "metadata": {},
   "outputs": [
    {
     "data": {
      "text/html": [
       "<div>\n",
       "<style scoped>\n",
       "    .dataframe tbody tr th:only-of-type {\n",
       "        vertical-align: middle;\n",
       "    }\n",
       "\n",
       "    .dataframe tbody tr th {\n",
       "        vertical-align: top;\n",
       "    }\n",
       "\n",
       "    .dataframe thead th {\n",
       "        text-align: right;\n",
       "    }\n",
       "</style>\n",
       "<table border=\"1\" class=\"dataframe\">\n",
       "  <thead>\n",
       "    <tr style=\"text-align: right;\">\n",
       "      <th></th>\n",
       "      <th>0</th>\n",
       "      <th>1</th>\n",
       "      <th>2</th>\n",
       "      <th>3</th>\n",
       "      <th>4</th>\n",
       "      <th>5</th>\n",
       "      <th>6</th>\n",
       "      <th>7</th>\n",
       "      <th>8</th>\n",
       "      <th>9</th>\n",
       "      <th>...</th>\n",
       "      <th>51</th>\n",
       "      <th>52</th>\n",
       "      <th>53</th>\n",
       "      <th>54</th>\n",
       "      <th>55</th>\n",
       "      <th>56</th>\n",
       "      <th>57</th>\n",
       "      <th>58</th>\n",
       "      <th>59</th>\n",
       "      <th>y</th>\n",
       "    </tr>\n",
       "  </thead>\n",
       "  <tbody>\n",
       "    <tr>\n",
       "      <th>0</th>\n",
       "      <td>0.085814</td>\n",
       "      <td>0.097012</td>\n",
       "      <td>0.094334</td>\n",
       "      <td>0.091562</td>\n",
       "      <td>0.079842</td>\n",
       "      <td>0.064328</td>\n",
       "      <td>0.058542</td>\n",
       "      <td>0.065686</td>\n",
       "      <td>0.061091</td>\n",
       "      <td>0.066393</td>\n",
       "      <td>...</td>\n",
       "      <td>0.056124</td>\n",
       "      <td>0.058189</td>\n",
       "      <td>0.065407</td>\n",
       "      <td>0.068830</td>\n",
       "      <td>0.072438</td>\n",
       "      <td>0.079935</td>\n",
       "      <td>0.078466</td>\n",
       "      <td>0.080345</td>\n",
       "      <td>0.084977</td>\n",
       "      <td>0.086279</td>\n",
       "    </tr>\n",
       "    <tr>\n",
       "      <th>1</th>\n",
       "      <td>0.097012</td>\n",
       "      <td>0.094334</td>\n",
       "      <td>0.091562</td>\n",
       "      <td>0.079842</td>\n",
       "      <td>0.064328</td>\n",
       "      <td>0.058542</td>\n",
       "      <td>0.065686</td>\n",
       "      <td>0.061091</td>\n",
       "      <td>0.066393</td>\n",
       "      <td>0.061426</td>\n",
       "      <td>...</td>\n",
       "      <td>0.058189</td>\n",
       "      <td>0.065407</td>\n",
       "      <td>0.068830</td>\n",
       "      <td>0.072438</td>\n",
       "      <td>0.079935</td>\n",
       "      <td>0.078466</td>\n",
       "      <td>0.080345</td>\n",
       "      <td>0.084977</td>\n",
       "      <td>0.086279</td>\n",
       "      <td>0.084716</td>\n",
       "    </tr>\n",
       "    <tr>\n",
       "      <th>2</th>\n",
       "      <td>0.094334</td>\n",
       "      <td>0.091562</td>\n",
       "      <td>0.079842</td>\n",
       "      <td>0.064328</td>\n",
       "      <td>0.058542</td>\n",
       "      <td>0.065686</td>\n",
       "      <td>0.061091</td>\n",
       "      <td>0.066393</td>\n",
       "      <td>0.061426</td>\n",
       "      <td>0.074745</td>\n",
       "      <td>...</td>\n",
       "      <td>0.065407</td>\n",
       "      <td>0.068830</td>\n",
       "      <td>0.072438</td>\n",
       "      <td>0.079935</td>\n",
       "      <td>0.078466</td>\n",
       "      <td>0.080345</td>\n",
       "      <td>0.084977</td>\n",
       "      <td>0.086279</td>\n",
       "      <td>0.084716</td>\n",
       "      <td>0.074541</td>\n",
       "    </tr>\n",
       "    <tr>\n",
       "      <th>3</th>\n",
       "      <td>0.091562</td>\n",
       "      <td>0.079842</td>\n",
       "      <td>0.064328</td>\n",
       "      <td>0.058542</td>\n",
       "      <td>0.065686</td>\n",
       "      <td>0.061091</td>\n",
       "      <td>0.066393</td>\n",
       "      <td>0.061426</td>\n",
       "      <td>0.074745</td>\n",
       "      <td>0.027978</td>\n",
       "      <td>...</td>\n",
       "      <td>0.068830</td>\n",
       "      <td>0.072438</td>\n",
       "      <td>0.079935</td>\n",
       "      <td>0.078466</td>\n",
       "      <td>0.080345</td>\n",
       "      <td>0.084977</td>\n",
       "      <td>0.086279</td>\n",
       "      <td>0.084716</td>\n",
       "      <td>0.074541</td>\n",
       "      <td>0.078838</td>\n",
       "    </tr>\n",
       "    <tr>\n",
       "      <th>4</th>\n",
       "      <td>0.079842</td>\n",
       "      <td>0.064328</td>\n",
       "      <td>0.058542</td>\n",
       "      <td>0.065686</td>\n",
       "      <td>0.061091</td>\n",
       "      <td>0.066393</td>\n",
       "      <td>0.061426</td>\n",
       "      <td>0.074745</td>\n",
       "      <td>0.027978</td>\n",
       "      <td>0.023793</td>\n",
       "      <td>...</td>\n",
       "      <td>0.072438</td>\n",
       "      <td>0.079935</td>\n",
       "      <td>0.078466</td>\n",
       "      <td>0.080345</td>\n",
       "      <td>0.084977</td>\n",
       "      <td>0.086279</td>\n",
       "      <td>0.084716</td>\n",
       "      <td>0.074541</td>\n",
       "      <td>0.078838</td>\n",
       "      <td>0.072383</td>\n",
       "    </tr>\n",
       "  </tbody>\n",
       "</table>\n",
       "<p>5 rows × 61 columns</p>\n",
       "</div>"
      ],
      "text/plain": [
       "          0         1         2         3         4         5         6  \\\n",
       "0  0.085814  0.097012  0.094334  0.091562  0.079842  0.064328  0.058542   \n",
       "1  0.097012  0.094334  0.091562  0.079842  0.064328  0.058542  0.065686   \n",
       "2  0.094334  0.091562  0.079842  0.064328  0.058542  0.065686  0.061091   \n",
       "3  0.091562  0.079842  0.064328  0.058542  0.065686  0.061091  0.066393   \n",
       "4  0.079842  0.064328  0.058542  0.065686  0.061091  0.066393  0.061426   \n",
       "\n",
       "          7         8         9  ...        51        52        53        54  \\\n",
       "0  0.065686  0.061091  0.066393  ...  0.056124  0.058189  0.065407  0.068830   \n",
       "1  0.061091  0.066393  0.061426  ...  0.058189  0.065407  0.068830  0.072438   \n",
       "2  0.066393  0.061426  0.074745  ...  0.065407  0.068830  0.072438  0.079935   \n",
       "3  0.061426  0.074745  0.027978  ...  0.068830  0.072438  0.079935  0.078466   \n",
       "4  0.074745  0.027978  0.023793  ...  0.072438  0.079935  0.078466  0.080345   \n",
       "\n",
       "         55        56        57        58        59         y  \n",
       "0  0.072438  0.079935  0.078466  0.080345  0.084977  0.086279  \n",
       "1  0.079935  0.078466  0.080345  0.084977  0.086279  0.084716  \n",
       "2  0.078466  0.080345  0.084977  0.086279  0.084716  0.074541  \n",
       "3  0.080345  0.084977  0.086279  0.084716  0.074541  0.078838  \n",
       "4  0.084977  0.086279  0.084716  0.074541  0.078838  0.072383  \n",
       "\n",
       "[5 rows x 61 columns]"
      ]
     },
     "execution_count": 50,
     "metadata": {},
     "output_type": "execute_result"
    }
   ],
   "source": [
    "df_final.head()"
   ]
  },
  {
   "cell_type": "code",
   "execution_count": 52,
   "id": "1d97735b",
   "metadata": {},
   "outputs": [
    {
     "data": {
      "text/html": [
       "<div>\n",
       "<style scoped>\n",
       "    .dataframe tbody tr th:only-of-type {\n",
       "        vertical-align: middle;\n",
       "    }\n",
       "\n",
       "    .dataframe tbody tr th {\n",
       "        vertical-align: top;\n",
       "    }\n",
       "\n",
       "    .dataframe thead th {\n",
       "        text-align: right;\n",
       "    }\n",
       "</style>\n",
       "<table border=\"1\" class=\"dataframe\">\n",
       "  <thead>\n",
       "    <tr style=\"text-align: right;\">\n",
       "      <th></th>\n",
       "      <th>Date</th>\n",
       "      <th>Open</th>\n",
       "      <th>High</th>\n",
       "      <th>Low</th>\n",
       "      <th>Close</th>\n",
       "      <th>Volume</th>\n",
       "    </tr>\n",
       "  </thead>\n",
       "  <tbody>\n",
       "    <tr>\n",
       "      <th>1253</th>\n",
       "      <td>12/23/2016</td>\n",
       "      <td>790.90</td>\n",
       "      <td>792.74</td>\n",
       "      <td>787.28</td>\n",
       "      <td>789.91</td>\n",
       "      <td>623,400</td>\n",
       "    </tr>\n",
       "    <tr>\n",
       "      <th>1254</th>\n",
       "      <td>12/27/2016</td>\n",
       "      <td>790.68</td>\n",
       "      <td>797.86</td>\n",
       "      <td>787.66</td>\n",
       "      <td>791.55</td>\n",
       "      <td>789,100</td>\n",
       "    </tr>\n",
       "    <tr>\n",
       "      <th>1255</th>\n",
       "      <td>12/28/2016</td>\n",
       "      <td>793.70</td>\n",
       "      <td>794.23</td>\n",
       "      <td>783.20</td>\n",
       "      <td>785.05</td>\n",
       "      <td>1,153,800</td>\n",
       "    </tr>\n",
       "    <tr>\n",
       "      <th>1256</th>\n",
       "      <td>12/29/2016</td>\n",
       "      <td>783.33</td>\n",
       "      <td>785.93</td>\n",
       "      <td>778.92</td>\n",
       "      <td>782.79</td>\n",
       "      <td>744,300</td>\n",
       "    </tr>\n",
       "    <tr>\n",
       "      <th>1257</th>\n",
       "      <td>12/30/2016</td>\n",
       "      <td>782.75</td>\n",
       "      <td>782.78</td>\n",
       "      <td>770.41</td>\n",
       "      <td>771.82</td>\n",
       "      <td>1,770,000</td>\n",
       "    </tr>\n",
       "  </tbody>\n",
       "</table>\n",
       "</div>"
      ],
      "text/plain": [
       "            Date    Open    High     Low   Close     Volume\n",
       "1253  12/23/2016  790.90  792.74  787.28  789.91    623,400\n",
       "1254  12/27/2016  790.68  797.86  787.66  791.55    789,100\n",
       "1255  12/28/2016  793.70  794.23  783.20  785.05  1,153,800\n",
       "1256  12/29/2016  783.33  785.93  778.92  782.79    744,300\n",
       "1257  12/30/2016  782.75  782.78  770.41  771.82  1,770,000"
      ]
     },
     "execution_count": 52,
     "metadata": {},
     "output_type": "execute_result"
    }
   ],
   "source": [
    "dataset_train.tail()"
   ]
  },
  {
   "cell_type": "code",
   "execution_count": 53,
   "id": "c87493f2",
   "metadata": {},
   "outputs": [],
   "source": [
    "from tensorflow.keras.models import Sequential\n",
    "from tensorflow.keras.layers import Dense, LSTM, Dropout"
   ]
  },
  {
   "cell_type": "code",
   "execution_count": 54,
   "id": "a7702b11",
   "metadata": {},
   "outputs": [],
   "source": [
    "reg = Sequential()"
   ]
  },
  {
   "cell_type": "code",
   "execution_count": 55,
   "id": "9013e015",
   "metadata": {},
   "outputs": [
    {
     "data": {
      "text/plain": [
       "60"
      ]
     },
     "execution_count": 55,
     "metadata": {},
     "output_type": "execute_result"
    }
   ],
   "source": [
    "X_train.shape[1]"
   ]
  },
  {
   "cell_type": "code",
   "execution_count": 56,
   "id": "9cd59733",
   "metadata": {},
   "outputs": [],
   "source": [
    "reg.add(LSTM(50, return_sequences=True, input_shape = (X_train.shape[1], 1)))\n",
    "reg.add(Dropout(0.2))"
   ]
  },
  {
   "cell_type": "code",
   "execution_count": 57,
   "id": "f1ddabe3",
   "metadata": {},
   "outputs": [],
   "source": [
    "reg.add(LSTM(50, return_sequences=True))\n",
    "reg.add(Dropout(0.2))"
   ]
  },
  {
   "cell_type": "code",
   "execution_count": 58,
   "id": "840fd13b",
   "metadata": {},
   "outputs": [],
   "source": [
    "reg.add(LSTM(50, return_sequences=True))\n",
    "reg.add(Dropout(0.2))"
   ]
  },
  {
   "cell_type": "code",
   "execution_count": 59,
   "id": "7ed9dfda",
   "metadata": {},
   "outputs": [],
   "source": [
    "reg.add(LSTM(50))\n",
    "reg.add(Dropout(0.2))"
   ]
  },
  {
   "cell_type": "code",
   "execution_count": 60,
   "id": "5f7d62e0",
   "metadata": {},
   "outputs": [],
   "source": [
    "reg.add(Dense(1))"
   ]
  },
  {
   "cell_type": "code",
   "execution_count": 61,
   "id": "f6c9b7d7",
   "metadata": {},
   "outputs": [],
   "source": [
    "reg.compile(optimizer='adam', loss = 'mean_squared_error')"
   ]
  },
  {
   "cell_type": "code",
   "execution_count": 62,
   "id": "86cd73a8",
   "metadata": {},
   "outputs": [
    {
     "data": {
      "text/plain": [
       "<bound method Model.summary of <tensorflow.python.keras.engine.sequential.Sequential object at 0x00000249CF2D92E0>>"
      ]
     },
     "execution_count": 62,
     "metadata": {},
     "output_type": "execute_result"
    }
   ],
   "source": [
    "reg.summary"
   ]
  },
  {
   "cell_type": "code",
   "execution_count": 63,
   "id": "df4ae8de",
   "metadata": {},
   "outputs": [
    {
     "name": "stdout",
     "output_type": "stream",
     "text": [
      "Epoch 1/100\n",
      "38/38 [==============================] - 14s 111ms/step - loss: 0.0352\n",
      "Epoch 2/100\n",
      "38/38 [==============================] - 4s 117ms/step - loss: 0.0063\n",
      "Epoch 3/100\n",
      "38/38 [==============================] - 5s 126ms/step - loss: 0.0057\n",
      "Epoch 4/100\n",
      "38/38 [==============================] - 5s 135ms/step - loss: 0.0052\n",
      "Epoch 5/100\n",
      "38/38 [==============================] - 5s 138ms/step - loss: 0.0054\n",
      "Epoch 6/100\n",
      "38/38 [==============================] - 5s 141ms/step - loss: 0.0054\n",
      "Epoch 7/100\n",
      "38/38 [==============================] - 5s 143ms/step - loss: 0.0046\n",
      "Epoch 8/100\n",
      "38/38 [==============================] - 5s 142ms/step - loss: 0.0048\n",
      "Epoch 9/100\n",
      "38/38 [==============================] - 5s 143ms/step - loss: 0.0047\n",
      "Epoch 10/100\n",
      "38/38 [==============================] - 5s 144ms/step - loss: 0.0037\n",
      "Epoch 11/100\n",
      "38/38 [==============================] - 5s 144ms/step - loss: 0.0041\n",
      "Epoch 12/100\n",
      "38/38 [==============================] - 5s 144ms/step - loss: 0.0040\n",
      "Epoch 13/100\n",
      "38/38 [==============================] - 5s 145ms/step - loss: 0.0039\n",
      "Epoch 14/100\n",
      "38/38 [==============================] - 6s 149ms/step - loss: 0.0038\n",
      "Epoch 15/100\n",
      "38/38 [==============================] - 6s 147ms/step - loss: 0.0039\n",
      "Epoch 16/100\n",
      "38/38 [==============================] - 6s 150ms/step - loss: 0.0037\n",
      "Epoch 17/100\n",
      "38/38 [==============================] - 6s 150ms/step - loss: 0.0041\n",
      "Epoch 18/100\n",
      "38/38 [==============================] - 6s 148ms/step - loss: 0.0038\n",
      "Epoch 19/100\n",
      "38/38 [==============================] - 6s 148ms/step - loss: 0.0033\n",
      "Epoch 20/100\n",
      "38/38 [==============================] - 6s 149ms/step - loss: 0.0031\n",
      "Epoch 21/100\n",
      "38/38 [==============================] - 6s 147ms/step - loss: 0.0034\n",
      "Epoch 22/100\n",
      "38/38 [==============================] - 6s 150ms/step - loss: 0.0033\n",
      "Epoch 23/100\n",
      "38/38 [==============================] - 6s 154ms/step - loss: 0.0032\n",
      "Epoch 24/100\n",
      "38/38 [==============================] - 6s 159ms/step - loss: 0.0032\n",
      "Epoch 25/100\n",
      "38/38 [==============================] - 6s 160ms/step - loss: 0.0027\n",
      "Epoch 26/100\n",
      "38/38 [==============================] - 6s 149ms/step - loss: 0.0031\n",
      "Epoch 27/100\n",
      "38/38 [==============================] - 7s 185ms/step - loss: 0.0031\n",
      "Epoch 28/100\n",
      "38/38 [==============================] - 7s 191ms/step - loss: 0.0040\n",
      "Epoch 29/100\n",
      "38/38 [==============================] - 8s 199ms/step - loss: 0.0037\n",
      "Epoch 30/100\n",
      "38/38 [==============================] - 7s 180ms/step - loss: 0.0029\n",
      "Epoch 31/100\n",
      "38/38 [==============================] - 8s 198ms/step - loss: 0.0028\n",
      "Epoch 32/100\n",
      "38/38 [==============================] - 8s 199ms/step - loss: 0.0026 1s - los\n",
      "Epoch 33/100\n",
      "38/38 [==============================] - 8s 200ms/step - loss: 0.0031\n",
      "Epoch 34/100\n",
      "38/38 [==============================] - 8s 199ms/step - loss: 0.0031\n",
      "Epoch 35/100\n",
      "38/38 [==============================] - 8s 198ms/step - loss: 0.0027\n",
      "Epoch 36/100\n",
      "38/38 [==============================] - 7s 187ms/step - loss: 0.0028\n",
      "Epoch 37/100\n",
      "38/38 [==============================] - 7s 173ms/step - loss: 0.0026\n",
      "Epoch 38/100\n",
      "38/38 [==============================] - 8s 200ms/step - loss: 0.0025\n",
      "Epoch 39/100\n",
      "38/38 [==============================] - 8s 199ms/step - loss: 0.0026\n",
      "Epoch 40/100\n",
      "38/38 [==============================] - 7s 196ms/step - loss: 0.0027\n",
      "Epoch 41/100\n",
      "38/38 [==============================] - 8s 199ms/step - loss: 0.0026\n",
      "Epoch 42/100\n",
      "38/38 [==============================] - 7s 197ms/step - loss: 0.0026\n",
      "Epoch 43/100\n",
      "38/38 [==============================] - 8s 199ms/step - loss: 0.0025\n",
      "Epoch 44/100\n",
      "38/38 [==============================] - 7s 192ms/step - loss: 0.0025\n",
      "Epoch 45/100\n",
      "38/38 [==============================] - 7s 193ms/step - loss: 0.0024\n",
      "Epoch 46/100\n",
      "38/38 [==============================] - 8s 198ms/step - loss: 0.0025\n",
      "Epoch 47/100\n",
      "38/38 [==============================] - 8s 201ms/step - loss: 0.0022\n",
      "Epoch 48/100\n",
      "38/38 [==============================] - 8s 201ms/step - loss: 0.0023\n",
      "Epoch 49/100\n",
      "38/38 [==============================] - 8s 201ms/step - loss: 0.0025\n",
      "Epoch 50/100\n",
      "38/38 [==============================] - 8s 201ms/step - loss: 0.0022\n",
      "Epoch 51/100\n",
      "38/38 [==============================] - 8s 200ms/step - loss: 0.0024\n",
      "Epoch 52/100\n",
      "38/38 [==============================] - 7s 194ms/step - loss: 0.0022\n",
      "Epoch 53/100\n",
      "38/38 [==============================] - 8s 201ms/step - loss: 0.0022\n",
      "Epoch 54/100\n",
      "38/38 [==============================] - 8s 199ms/step - loss: 0.0025\n",
      "Epoch 55/100\n",
      "38/38 [==============================] - 8s 198ms/step - loss: 0.0022\n",
      "Epoch 56/100\n",
      "38/38 [==============================] - 8s 201ms/step - loss: 0.0021\n",
      "Epoch 57/100\n",
      "38/38 [==============================] - 8s 201ms/step - loss: 0.0020\n",
      "Epoch 58/100\n",
      "38/38 [==============================] - 8s 200ms/step - loss: 0.0019\n",
      "Epoch 59/100\n",
      "38/38 [==============================] - 7s 197ms/step - loss: 0.0020\n",
      "Epoch 60/100\n",
      "38/38 [==============================] - 8s 199ms/step - loss: 0.0020\n",
      "Epoch 61/100\n",
      "38/38 [==============================] - 7s 192ms/step - loss: 0.0023\n",
      "Epoch 62/100\n",
      "38/38 [==============================] - 8s 200ms/step - loss: 0.0021\n",
      "Epoch 63/100\n",
      "38/38 [==============================] - 8s 200ms/step - loss: 0.0020\n",
      "Epoch 64/100\n",
      "38/38 [==============================] - 7s 180ms/step - loss: 0.0021\n",
      "Epoch 65/100\n",
      "38/38 [==============================] - 5s 123ms/step - loss: 0.0020\n",
      "Epoch 66/100\n",
      "38/38 [==============================] - 5s 132ms/step - loss: 0.0019\n",
      "Epoch 67/100\n",
      "38/38 [==============================] - 5s 139ms/step - loss: 0.0020\n",
      "Epoch 68/100\n",
      "38/38 [==============================] - 5s 143ms/step - loss: 0.0020\n",
      "Epoch 69/100\n",
      "38/38 [==============================] - 6s 146ms/step - loss: 0.0020\n",
      "Epoch 70/100\n",
      "38/38 [==============================] - 6s 147ms/step - loss: 0.0018\n",
      "Epoch 71/100\n",
      "38/38 [==============================] - 6s 148ms/step - loss: 0.0018\n",
      "Epoch 72/100\n",
      "38/38 [==============================] - 6s 148ms/step - loss: 0.0018\n",
      "Epoch 73/100\n",
      "38/38 [==============================] - 6s 146ms/step - loss: 0.0017\n",
      "Epoch 74/100\n",
      "38/38 [==============================] - 6s 146ms/step - loss: 0.0016\n",
      "Epoch 75/100\n",
      "38/38 [==============================] - 6s 148ms/step - loss: 0.0019\n",
      "Epoch 76/100\n",
      "38/38 [==============================] - 5s 145ms/step - loss: 0.0017\n",
      "Epoch 77/100\n",
      "38/38 [==============================] - 6s 145ms/step - loss: 0.0018\n",
      "Epoch 78/100\n",
      "38/38 [==============================] - 6s 155ms/step - loss: 0.0020\n",
      "Epoch 79/100\n",
      "38/38 [==============================] - 6s 155ms/step - loss: 0.0017\n",
      "Epoch 80/100\n",
      "38/38 [==============================] - 6s 149ms/step - loss: 0.0016\n",
      "Epoch 81/100\n",
      "38/38 [==============================] - 6s 146ms/step - loss: 0.0015\n",
      "Epoch 82/100\n",
      "38/38 [==============================] - 6s 149ms/step - loss: 0.0018\n",
      "Epoch 83/100\n",
      "38/38 [==============================] - 6s 157ms/step - loss: 0.0016\n",
      "Epoch 84/100\n",
      "38/38 [==============================] - 6s 147ms/step - loss: 0.0015\n",
      "Epoch 85/100\n",
      "38/38 [==============================] - 6s 148ms/step - loss: 0.0016\n",
      "Epoch 86/100\n",
      "38/38 [==============================] - 6s 146ms/step - loss: 0.0015\n",
      "Epoch 87/100\n",
      "38/38 [==============================] - 6s 148ms/step - loss: 0.0015\n",
      "Epoch 88/100\n",
      "38/38 [==============================] - 6s 151ms/step - loss: 0.0015\n",
      "Epoch 89/100\n",
      "38/38 [==============================] - 6s 151ms/step - loss: 0.0016\n",
      "Epoch 90/100\n",
      "38/38 [==============================] - 6s 150ms/step - loss: 0.0016\n",
      "Epoch 91/100\n",
      "38/38 [==============================] - 6s 153ms/step - loss: 0.0015\n",
      "Epoch 92/100\n",
      "38/38 [==============================] - 6s 148ms/step - loss: 0.0014\n",
      "Epoch 93/100\n",
      "38/38 [==============================] - 6s 150ms/step - loss: 0.0015\n",
      "Epoch 94/100\n",
      "38/38 [==============================] - 6s 151ms/step - loss: 0.0015\n",
      "Epoch 95/100\n",
      "38/38 [==============================] - 6s 149ms/step - loss: 0.0016\n",
      "Epoch 96/100\n",
      "38/38 [==============================] - 6s 150ms/step - loss: 0.0016\n",
      "Epoch 97/100\n",
      "38/38 [==============================] - 6s 156ms/step - loss: 0.0015\n",
      "Epoch 98/100\n",
      "38/38 [==============================] - 6s 151ms/step - loss: 0.0015\n",
      "Epoch 99/100\n"
     ]
    },
    {
     "name": "stdout",
     "output_type": "stream",
     "text": [
      "38/38 [==============================] - 6s 152ms/step - loss: 0.0014\n",
      "Epoch 100/100\n",
      "38/38 [==============================] - 6s 149ms/step - loss: 0.0014\n"
     ]
    },
    {
     "data": {
      "text/plain": [
       "<tensorflow.python.keras.callbacks.History at 0x249d18007f0>"
      ]
     },
     "execution_count": 63,
     "metadata": {},
     "output_type": "execute_result"
    }
   ],
   "source": [
    "reg.fit(X_train, y_train, epochs = 100, batch_size = 32)"
   ]
  },
  {
   "cell_type": "code",
   "execution_count": 64,
   "id": "fecebd86",
   "metadata": {},
   "outputs": [],
   "source": [
    "dataset_test = pd.read_csv('Google_Stock_Price_Test.csv') "
   ]
  },
  {
   "cell_type": "code",
   "execution_count": 65,
   "id": "268fdf8c",
   "metadata": {},
   "outputs": [
    {
     "data": {
      "text/html": [
       "<div>\n",
       "<style scoped>\n",
       "    .dataframe tbody tr th:only-of-type {\n",
       "        vertical-align: middle;\n",
       "    }\n",
       "\n",
       "    .dataframe tbody tr th {\n",
       "        vertical-align: top;\n",
       "    }\n",
       "\n",
       "    .dataframe thead th {\n",
       "        text-align: right;\n",
       "    }\n",
       "</style>\n",
       "<table border=\"1\" class=\"dataframe\">\n",
       "  <thead>\n",
       "    <tr style=\"text-align: right;\">\n",
       "      <th></th>\n",
       "      <th>Date</th>\n",
       "      <th>Open</th>\n",
       "      <th>High</th>\n",
       "      <th>Low</th>\n",
       "      <th>Close</th>\n",
       "      <th>Volume</th>\n",
       "    </tr>\n",
       "  </thead>\n",
       "  <tbody>\n",
       "    <tr>\n",
       "      <th>0</th>\n",
       "      <td>1/3/2017</td>\n",
       "      <td>778.81</td>\n",
       "      <td>789.63</td>\n",
       "      <td>775.80</td>\n",
       "      <td>786.14</td>\n",
       "      <td>1,657,300</td>\n",
       "    </tr>\n",
       "    <tr>\n",
       "      <th>1</th>\n",
       "      <td>1/4/2017</td>\n",
       "      <td>788.36</td>\n",
       "      <td>791.34</td>\n",
       "      <td>783.16</td>\n",
       "      <td>786.90</td>\n",
       "      <td>1,073,000</td>\n",
       "    </tr>\n",
       "    <tr>\n",
       "      <th>2</th>\n",
       "      <td>1/5/2017</td>\n",
       "      <td>786.08</td>\n",
       "      <td>794.48</td>\n",
       "      <td>785.02</td>\n",
       "      <td>794.02</td>\n",
       "      <td>1,335,200</td>\n",
       "    </tr>\n",
       "    <tr>\n",
       "      <th>3</th>\n",
       "      <td>1/6/2017</td>\n",
       "      <td>795.26</td>\n",
       "      <td>807.90</td>\n",
       "      <td>792.20</td>\n",
       "      <td>806.15</td>\n",
       "      <td>1,640,200</td>\n",
       "    </tr>\n",
       "    <tr>\n",
       "      <th>4</th>\n",
       "      <td>1/9/2017</td>\n",
       "      <td>806.40</td>\n",
       "      <td>809.97</td>\n",
       "      <td>802.83</td>\n",
       "      <td>806.65</td>\n",
       "      <td>1,272,400</td>\n",
       "    </tr>\n",
       "  </tbody>\n",
       "</table>\n",
       "</div>"
      ],
      "text/plain": [
       "       Date    Open    High     Low   Close     Volume\n",
       "0  1/3/2017  778.81  789.63  775.80  786.14  1,657,300\n",
       "1  1/4/2017  788.36  791.34  783.16  786.90  1,073,000\n",
       "2  1/5/2017  786.08  794.48  785.02  794.02  1,335,200\n",
       "3  1/6/2017  795.26  807.90  792.20  806.15  1,640,200\n",
       "4  1/9/2017  806.40  809.97  802.83  806.65  1,272,400"
      ]
     },
     "execution_count": 65,
     "metadata": {},
     "output_type": "execute_result"
    }
   ],
   "source": [
    "dataset_test.head()"
   ]
  },
  {
   "cell_type": "code",
   "execution_count": 67,
   "id": "e3e45463",
   "metadata": {},
   "outputs": [
    {
     "data": {
      "text/html": [
       "<div>\n",
       "<style scoped>\n",
       "    .dataframe tbody tr th:only-of-type {\n",
       "        vertical-align: middle;\n",
       "    }\n",
       "\n",
       "    .dataframe tbody tr th {\n",
       "        vertical-align: top;\n",
       "    }\n",
       "\n",
       "    .dataframe thead th {\n",
       "        text-align: right;\n",
       "    }\n",
       "</style>\n",
       "<table border=\"1\" class=\"dataframe\">\n",
       "  <thead>\n",
       "    <tr style=\"text-align: right;\">\n",
       "      <th></th>\n",
       "      <th>Date</th>\n",
       "      <th>Open</th>\n",
       "      <th>High</th>\n",
       "      <th>Low</th>\n",
       "      <th>Close</th>\n",
       "      <th>Volume</th>\n",
       "    </tr>\n",
       "  </thead>\n",
       "  <tbody>\n",
       "    <tr>\n",
       "      <th>15</th>\n",
       "      <td>1/25/2017</td>\n",
       "      <td>829.62</td>\n",
       "      <td>835.77</td>\n",
       "      <td>825.06</td>\n",
       "      <td>835.67</td>\n",
       "      <td>1,494,500</td>\n",
       "    </tr>\n",
       "    <tr>\n",
       "      <th>16</th>\n",
       "      <td>1/26/2017</td>\n",
       "      <td>837.81</td>\n",
       "      <td>838.00</td>\n",
       "      <td>827.01</td>\n",
       "      <td>832.15</td>\n",
       "      <td>2,973,900</td>\n",
       "    </tr>\n",
       "    <tr>\n",
       "      <th>17</th>\n",
       "      <td>1/27/2017</td>\n",
       "      <td>834.71</td>\n",
       "      <td>841.95</td>\n",
       "      <td>820.44</td>\n",
       "      <td>823.31</td>\n",
       "      <td>2,965,800</td>\n",
       "    </tr>\n",
       "    <tr>\n",
       "      <th>18</th>\n",
       "      <td>1/30/2017</td>\n",
       "      <td>814.66</td>\n",
       "      <td>815.84</td>\n",
       "      <td>799.80</td>\n",
       "      <td>802.32</td>\n",
       "      <td>3,246,600</td>\n",
       "    </tr>\n",
       "    <tr>\n",
       "      <th>19</th>\n",
       "      <td>1/31/2017</td>\n",
       "      <td>796.86</td>\n",
       "      <td>801.25</td>\n",
       "      <td>790.52</td>\n",
       "      <td>796.79</td>\n",
       "      <td>2,160,600</td>\n",
       "    </tr>\n",
       "  </tbody>\n",
       "</table>\n",
       "</div>"
      ],
      "text/plain": [
       "         Date    Open    High     Low   Close     Volume\n",
       "15  1/25/2017  829.62  835.77  825.06  835.67  1,494,500\n",
       "16  1/26/2017  837.81  838.00  827.01  832.15  2,973,900\n",
       "17  1/27/2017  834.71  841.95  820.44  823.31  2,965,800\n",
       "18  1/30/2017  814.66  815.84  799.80  802.32  3,246,600\n",
       "19  1/31/2017  796.86  801.25  790.52  796.79  2,160,600"
      ]
     },
     "execution_count": 67,
     "metadata": {},
     "output_type": "execute_result"
    }
   ],
   "source": [
    "dataset_test.tail()"
   ]
  },
  {
   "cell_type": "code",
   "execution_count": 69,
   "id": "f5a0eb24",
   "metadata": {},
   "outputs": [
    {
     "data": {
      "text/plain": [
       "(20, 6)"
      ]
     },
     "execution_count": 69,
     "metadata": {},
     "output_type": "execute_result"
    }
   ],
   "source": [
    "dataset_test.shape"
   ]
  },
  {
   "cell_type": "code",
   "execution_count": 70,
   "id": "1c7d7587",
   "metadata": {},
   "outputs": [],
   "source": [
    "real_stock_price = dataset_test.iloc[:,1:2].values"
   ]
  },
  {
   "cell_type": "code",
   "execution_count": 71,
   "id": "928c3c7d",
   "metadata": {},
   "outputs": [
    {
     "data": {
      "text/plain": [
       "(20, 1)"
      ]
     },
     "execution_count": 71,
     "metadata": {},
     "output_type": "execute_result"
    }
   ],
   "source": [
    "real_stock_price.shape"
   ]
  },
  {
   "cell_type": "code",
   "execution_count": 74,
   "id": "c2b084dd",
   "metadata": {},
   "outputs": [],
   "source": [
    "dataset_total = pd.concat([dataset_train['Open'], dataset_test['Open']], axis =0)"
   ]
  },
  {
   "cell_type": "code",
   "execution_count": 75,
   "id": "988247e4",
   "metadata": {},
   "outputs": [
    {
     "data": {
      "text/plain": [
       "1278"
      ]
     },
     "execution_count": 75,
     "metadata": {},
     "output_type": "execute_result"
    }
   ],
   "source": [
    "len(dataset_total)"
   ]
  },
  {
   "cell_type": "code",
   "execution_count": 76,
   "id": "2c2793c1",
   "metadata": {},
   "outputs": [
    {
     "data": {
      "text/plain": [
       "20"
      ]
     },
     "execution_count": 76,
     "metadata": {},
     "output_type": "execute_result"
    }
   ],
   "source": [
    "len(dataset_test)"
   ]
  },
  {
   "cell_type": "code",
   "execution_count": 77,
   "id": "bbfcddab",
   "metadata": {},
   "outputs": [],
   "source": [
    "inputs = dataset_total[len(dataset_total) - len(dataset_test) - 60:].values"
   ]
  },
  {
   "cell_type": "code",
   "execution_count": 78,
   "id": "81028f59",
   "metadata": {},
   "outputs": [
    {
     "data": {
      "text/plain": [
       "(80,)"
      ]
     },
     "execution_count": 78,
     "metadata": {},
     "output_type": "execute_result"
    }
   ],
   "source": [
    "inputs.shape"
   ]
  },
  {
   "cell_type": "code",
   "execution_count": 79,
   "id": "89e349d3",
   "metadata": {},
   "outputs": [],
   "source": [
    "inputs = inputs.reshape(-1,1)"
   ]
  },
  {
   "cell_type": "code",
   "execution_count": 80,
   "id": "dc8823ac",
   "metadata": {},
   "outputs": [
    {
     "data": {
      "text/plain": [
       "(80, 1)"
      ]
     },
     "execution_count": 80,
     "metadata": {},
     "output_type": "execute_result"
    }
   ],
   "source": [
    "inputs.shape"
   ]
  },
  {
   "cell_type": "code",
   "execution_count": 81,
   "id": "e4b2f831",
   "metadata": {},
   "outputs": [],
   "source": [
    "inputs = sc.transform(inputs)"
   ]
  },
  {
   "cell_type": "code",
   "execution_count": 82,
   "id": "efddef45",
   "metadata": {},
   "outputs": [],
   "source": [
    "X_test = []\n",
    "for i in range(60,80):\n",
    "    X_test.append(inputs[i-60:i,0])\n",
    "    \n",
    "X_test = np.array(X_test)\n",
    "X_test = np.reshape(X_test, (X_test.shape[0], X_test.shape[1], 1))\n",
    "predicted_stock_price = reg.predict(X_test)\n",
    "predicted_stock_price = sc.inverse_transform(predicted_stock_price)"
   ]
  },
  {
   "cell_type": "code",
   "execution_count": 83,
   "id": "4285298a",
   "metadata": {},
   "outputs": [
    {
     "data": {
      "text/plain": [
       "array([[785.1537 ],\n",
       "       [782.2771 ],\n",
       "       [782.31586],\n",
       "       [783.6718 ],\n",
       "       [787.1281 ],\n",
       "       [793.2599 ],\n",
       "       [799.0269 ],\n",
       "       [801.5373 ],\n",
       "       [801.86005],\n",
       "       [801.2994 ],\n",
       "       [800.62683],\n",
       "       [800.0145 ],\n",
       "       [799.6373 ],\n",
       "       [800.12317],\n",
       "       [801.18304],\n",
       "       [805.959  ],\n",
       "       [813.22687],\n",
       "       [821.12067],\n",
       "       [825.56995],\n",
       "       [821.5141 ]], dtype=float32)"
      ]
     },
     "execution_count": 83,
     "metadata": {},
     "output_type": "execute_result"
    }
   ],
   "source": [
    "predicted_stock_price"
   ]
  },
  {
   "cell_type": "code",
   "execution_count": 84,
   "id": "2a97f1c6",
   "metadata": {},
   "outputs": [
    {
     "data": {
      "image/png": "[encoded data removed]",
      "text/plain": [
       "<Figure size 432x288 with 1 Axes>"
      ]
     },
     "metadata": {
      "needs_background": "light"
     },
     "output_type": "display_data"
    }
   ],
   "source": [
    "plt.plot(real_stock_price, color = \"red\", label = \"Real_stock_price\")\n",
    "plt.plot(predicted_stock_price, color = \"blue\", label = \"predicted_stock\")\n",
    "plt.xlabel(\"time\")\n",
    "plt.ylabel('Google stock price')\n",
    "plt.legend()\n",
    "plt.show()"
   ]
  },
  {
   "cell_type": "markdown",
   "id": "2f05734a",
   "metadata": {},
   "source": [
    "AARima"
   ]
  },
  {
   "cell_type": "code",
   "execution_count": 97,
   "id": "f9aa3474",
   "metadata": {},
   "outputs": [],
   "source": [
    "df_train = pd.read_csv('Google_Stock_Price_Train.csv', parse_dates = ['Date'], index_col = ['Date'])\n",
    "df_test = pd.read_csv('Google_Stock_Price_Test.csv', parse_dates = ['Date'], index_col = ['Date'])"
   ]
  },
  {
   "cell_type": "code",
   "execution_count": 98,
   "id": "b3a75a26",
   "metadata": {},
   "outputs": [
    {
     "data": {
      "text/html": [
       "<div>\n",
       "<style scoped>\n",
       "    .dataframe tbody tr th:only-of-type {\n",
       "        vertical-align: middle;\n",
       "    }\n",
       "\n",
       "    .dataframe tbody tr th {\n",
       "        vertical-align: top;\n",
       "    }\n",
       "\n",
       "    .dataframe thead th {\n",
       "        text-align: right;\n",
       "    }\n",
       "</style>\n",
       "<table border=\"1\" class=\"dataframe\">\n",
       "  <thead>\n",
       "    <tr style=\"text-align: right;\">\n",
       "      <th></th>\n",
       "      <th>Open</th>\n",
       "      <th>High</th>\n",
       "      <th>Low</th>\n",
       "      <th>Close</th>\n",
       "      <th>Volume</th>\n",
       "    </tr>\n",
       "    <tr>\n",
       "      <th>Date</th>\n",
       "      <th></th>\n",
       "      <th></th>\n",
       "      <th></th>\n",
       "      <th></th>\n",
       "      <th></th>\n",
       "    </tr>\n",
       "  </thead>\n",
       "  <tbody>\n",
       "    <tr>\n",
       "      <th>2012-01-03</th>\n",
       "      <td>325.25</td>\n",
       "      <td>332.83</td>\n",
       "      <td>324.97</td>\n",
       "      <td>663.59</td>\n",
       "      <td>7,380,500</td>\n",
       "    </tr>\n",
       "    <tr>\n",
       "      <th>2012-01-04</th>\n",
       "      <td>331.27</td>\n",
       "      <td>333.87</td>\n",
       "      <td>329.08</td>\n",
       "      <td>666.45</td>\n",
       "      <td>5,749,400</td>\n",
       "    </tr>\n",
       "    <tr>\n",
       "      <th>2012-01-05</th>\n",
       "      <td>329.83</td>\n",
       "      <td>330.75</td>\n",
       "      <td>326.89</td>\n",
       "      <td>657.21</td>\n",
       "      <td>6,590,300</td>\n",
       "    </tr>\n",
       "    <tr>\n",
       "      <th>2012-01-06</th>\n",
       "      <td>328.34</td>\n",
       "      <td>328.77</td>\n",
       "      <td>323.68</td>\n",
       "      <td>648.24</td>\n",
       "      <td>5,405,900</td>\n",
       "    </tr>\n",
       "    <tr>\n",
       "      <th>2012-01-09</th>\n",
       "      <td>322.04</td>\n",
       "      <td>322.29</td>\n",
       "      <td>309.46</td>\n",
       "      <td>620.76</td>\n",
       "      <td>11,688,800</td>\n",
       "    </tr>\n",
       "  </tbody>\n",
       "</table>\n",
       "</div>"
      ],
      "text/plain": [
       "              Open    High     Low   Close      Volume\n",
       "Date                                                  \n",
       "2012-01-03  325.25  332.83  324.97  663.59   7,380,500\n",
       "2012-01-04  331.27  333.87  329.08  666.45   5,749,400\n",
       "2012-01-05  329.83  330.75  326.89  657.21   6,590,300\n",
       "2012-01-06  328.34  328.77  323.68  648.24   5,405,900\n",
       "2012-01-09  322.04  322.29  309.46  620.76  11,688,800"
      ]
     },
     "execution_count": 98,
     "metadata": {},
     "output_type": "execute_result"
    }
   ],
   "source": [
    "df_train.head()"
   ]
  },
  {
   "cell_type": "code",
   "execution_count": 99,
   "id": "880baf54",
   "metadata": {},
   "outputs": [
    {
     "name": "stdout",
     "output_type": "stream",
     "text": [
      "<class 'pandas.core.frame.DataFrame'>\n",
      "DatetimeIndex: 1258 entries, 2012-01-03 to 2016-12-30\n",
      "Data columns (total 5 columns):\n",
      " #   Column  Non-Null Count  Dtype  \n",
      "---  ------  --------------  -----  \n",
      " 0   Open    1258 non-null   float64\n",
      " 1   High    1258 non-null   float64\n",
      " 2   Low     1258 non-null   float64\n",
      " 3   Close   1258 non-null   object \n",
      " 4   Volume  1258 non-null   object \n",
      "dtypes: float64(3), object(2)\n",
      "memory usage: 59.0+ KB\n"
     ]
    }
   ],
   "source": [
    "df_train.info()"
   ]
  },
  {
   "cell_type": "markdown",
   "id": "178dd61c",
   "metadata": {},
   "source": [
    "Step 2:- Resample"
   ]
  },
  {
   "cell_type": "code",
   "execution_count": 100,
   "id": "f8a34579",
   "metadata": {},
   "outputs": [
    {
     "data": {
      "text/html": [
       "<div>\n",
       "<style scoped>\n",
       "    .dataframe tbody tr th:only-of-type {\n",
       "        vertical-align: middle;\n",
       "    }\n",
       "\n",
       "    .dataframe tbody tr th {\n",
       "        vertical-align: top;\n",
       "    }\n",
       "\n",
       "    .dataframe thead th {\n",
       "        text-align: right;\n",
       "    }\n",
       "</style>\n",
       "<table border=\"1\" class=\"dataframe\">\n",
       "  <thead>\n",
       "    <tr style=\"text-align: right;\">\n",
       "      <th></th>\n",
       "      <th>Open</th>\n",
       "      <th>High</th>\n",
       "      <th>Low</th>\n",
       "      <th>Close</th>\n",
       "      <th>Volume</th>\n",
       "    </tr>\n",
       "    <tr>\n",
       "      <th>Date</th>\n",
       "      <th></th>\n",
       "      <th></th>\n",
       "      <th></th>\n",
       "      <th></th>\n",
       "      <th></th>\n",
       "    </tr>\n",
       "  </thead>\n",
       "  <tbody>\n",
       "    <tr>\n",
       "      <th>2017-01-03</th>\n",
       "      <td>778.81</td>\n",
       "      <td>789.63</td>\n",
       "      <td>775.80</td>\n",
       "      <td>786.14</td>\n",
       "      <td>1,657,300</td>\n",
       "    </tr>\n",
       "    <tr>\n",
       "      <th>2017-01-04</th>\n",
       "      <td>788.36</td>\n",
       "      <td>791.34</td>\n",
       "      <td>783.16</td>\n",
       "      <td>786.90</td>\n",
       "      <td>1,073,000</td>\n",
       "    </tr>\n",
       "    <tr>\n",
       "      <th>2017-01-05</th>\n",
       "      <td>786.08</td>\n",
       "      <td>794.48</td>\n",
       "      <td>785.02</td>\n",
       "      <td>794.02</td>\n",
       "      <td>1,335,200</td>\n",
       "    </tr>\n",
       "    <tr>\n",
       "      <th>2017-01-06</th>\n",
       "      <td>795.26</td>\n",
       "      <td>807.90</td>\n",
       "      <td>792.20</td>\n",
       "      <td>806.15</td>\n",
       "      <td>1,640,200</td>\n",
       "    </tr>\n",
       "    <tr>\n",
       "      <th>2017-01-09</th>\n",
       "      <td>806.40</td>\n",
       "      <td>809.97</td>\n",
       "      <td>802.83</td>\n",
       "      <td>806.65</td>\n",
       "      <td>1,272,400</td>\n",
       "    </tr>\n",
       "  </tbody>\n",
       "</table>\n",
       "</div>"
      ],
      "text/plain": [
       "              Open    High     Low   Close     Volume\n",
       "Date                                                 \n",
       "2017-01-03  778.81  789.63  775.80  786.14  1,657,300\n",
       "2017-01-04  788.36  791.34  783.16  786.90  1,073,000\n",
       "2017-01-05  786.08  794.48  785.02  794.02  1,335,200\n",
       "2017-01-06  795.26  807.90  792.20  806.15  1,640,200\n",
       "2017-01-09  806.40  809.97  802.83  806.65  1,272,400"
      ]
     },
     "execution_count": 100,
     "metadata": {},
     "output_type": "execute_result"
    }
   ],
   "source": [
    "df_test.head()"
   ]
  },
  {
   "cell_type": "code",
   "execution_count": 103,
   "id": "85ff2bf8",
   "metadata": {},
   "outputs": [],
   "source": [
    "train_set = df_train.iloc[:,0:1]"
   ]
  },
  {
   "cell_type": "code",
   "execution_count": 104,
   "id": "9d8bf668",
   "metadata": {},
   "outputs": [
    {
     "data": {
      "text/html": [
       "<div>\n",
       "<style scoped>\n",
       "    .dataframe tbody tr th:only-of-type {\n",
       "        vertical-align: middle;\n",
       "    }\n",
       "\n",
       "    .dataframe tbody tr th {\n",
       "        vertical-align: top;\n",
       "    }\n",
       "\n",
       "    .dataframe thead th {\n",
       "        text-align: right;\n",
       "    }\n",
       "</style>\n",
       "<table border=\"1\" class=\"dataframe\">\n",
       "  <thead>\n",
       "    <tr style=\"text-align: right;\">\n",
       "      <th></th>\n",
       "      <th>Open</th>\n",
       "    </tr>\n",
       "    <tr>\n",
       "      <th>Date</th>\n",
       "      <th></th>\n",
       "    </tr>\n",
       "  </thead>\n",
       "  <tbody>\n",
       "    <tr>\n",
       "      <th>2012-01-03</th>\n",
       "      <td>325.25</td>\n",
       "    </tr>\n",
       "    <tr>\n",
       "      <th>2012-01-04</th>\n",
       "      <td>331.27</td>\n",
       "    </tr>\n",
       "    <tr>\n",
       "      <th>2012-01-05</th>\n",
       "      <td>329.83</td>\n",
       "    </tr>\n",
       "    <tr>\n",
       "      <th>2012-01-06</th>\n",
       "      <td>328.34</td>\n",
       "    </tr>\n",
       "    <tr>\n",
       "      <th>2012-01-09</th>\n",
       "      <td>322.04</td>\n",
       "    </tr>\n",
       "  </tbody>\n",
       "</table>\n",
       "</div>"
      ],
      "text/plain": [
       "              Open\n",
       "Date              \n",
       "2012-01-03  325.25\n",
       "2012-01-04  331.27\n",
       "2012-01-05  329.83\n",
       "2012-01-06  328.34\n",
       "2012-01-09  322.04"
      ]
     },
     "execution_count": 104,
     "metadata": {},
     "output_type": "execute_result"
    }
   ],
   "source": [
    "train_set.head()"
   ]
  },
  {
   "cell_type": "code",
   "execution_count": 107,
   "id": "4e731645",
   "metadata": {},
   "outputs": [],
   "source": [
    "test_set = df_test.iloc[:,0:1]"
   ]
  },
  {
   "cell_type": "code",
   "execution_count": 108,
   "id": "e72bf33c",
   "metadata": {},
   "outputs": [
    {
     "data": {
      "text/html": [
       "<div>\n",
       "<style scoped>\n",
       "    .dataframe tbody tr th:only-of-type {\n",
       "        vertical-align: middle;\n",
       "    }\n",
       "\n",
       "    .dataframe tbody tr th {\n",
       "        vertical-align: top;\n",
       "    }\n",
       "\n",
       "    .dataframe thead th {\n",
       "        text-align: right;\n",
       "    }\n",
       "</style>\n",
       "<table border=\"1\" class=\"dataframe\">\n",
       "  <thead>\n",
       "    <tr style=\"text-align: right;\">\n",
       "      <th></th>\n",
       "      <th>Open</th>\n",
       "    </tr>\n",
       "    <tr>\n",
       "      <th>Date</th>\n",
       "      <th></th>\n",
       "    </tr>\n",
       "  </thead>\n",
       "  <tbody>\n",
       "    <tr>\n",
       "      <th>2017-01-03</th>\n",
       "      <td>778.81</td>\n",
       "    </tr>\n",
       "    <tr>\n",
       "      <th>2017-01-04</th>\n",
       "      <td>788.36</td>\n",
       "    </tr>\n",
       "    <tr>\n",
       "      <th>2017-01-05</th>\n",
       "      <td>786.08</td>\n",
       "    </tr>\n",
       "    <tr>\n",
       "      <th>2017-01-06</th>\n",
       "      <td>795.26</td>\n",
       "    </tr>\n",
       "    <tr>\n",
       "      <th>2017-01-09</th>\n",
       "      <td>806.40</td>\n",
       "    </tr>\n",
       "  </tbody>\n",
       "</table>\n",
       "</div>"
      ],
      "text/plain": [
       "              Open\n",
       "Date              \n",
       "2017-01-03  778.81\n",
       "2017-01-04  788.36\n",
       "2017-01-05  786.08\n",
       "2017-01-06  795.26\n",
       "2017-01-09  806.40"
      ]
     },
     "execution_count": 108,
     "metadata": {},
     "output_type": "execute_result"
    }
   ],
   "source": [
    "test_set.head()"
   ]
  },
  {
   "cell_type": "code",
   "execution_count": 109,
   "id": "b50b9920",
   "metadata": {},
   "outputs": [],
   "source": [
    "ts = train_set['Open'].resample('MS').sum()"
   ]
  },
  {
   "cell_type": "code",
   "execution_count": 110,
   "id": "e7c945c8",
   "metadata": {},
   "outputs": [
    {
     "data": {
      "text/plain": [
       "Date\n",
       "2012-01-01    6147.08\n",
       "2012-02-01    6027.06\n",
       "2012-03-01    6866.30\n",
       "2012-04-01    6189.97\n",
       "2012-05-01    6641.43\n",
       "Freq: MS, Name: Open, dtype: float64"
      ]
     },
     "execution_count": 110,
     "metadata": {},
     "output_type": "execute_result"
    }
   ],
   "source": [
    "ts.head()"
   ]
  },
  {
   "cell_type": "code",
   "execution_count": 111,
   "id": "ef2121ab",
   "metadata": {},
   "outputs": [
    {
     "data": {
      "text/plain": [
       "<AxesSubplot:xlabel='Date'>"
      ]
     },
     "execution_count": 111,
     "metadata": {},
     "output_type": "execute_result"
    },
    {
     "data": {
      "image/png": "[encoded data removed]",
      "text/plain": [
       "<Figure size 432x288 with 1 Axes>"
      ]
     },
     "metadata": {
      "needs_background": "light"
     },
     "output_type": "display_data"
    }
   ],
   "source": [
    "ts.plot()"
   ]
  },
  {
   "cell_type": "markdown",
   "id": "f9c8e8ad",
   "metadata": {},
   "source": [
    "Stationarity Check"
   ]
  },
  {
   "cell_type": "code",
   "execution_count": 114,
   "id": "dd2ade88",
   "metadata": {},
   "outputs": [],
   "source": [
    "import statsmodels.api as sm"
   ]
  },
  {
   "cell_type": "code",
   "execution_count": 120,
   "id": "42c293d9",
   "metadata": {},
   "outputs": [
    {
     "data": {
      "image/png": "[encoded data removed]",
      "text/plain": [
       "<Figure size 432x288 with 4 Axes>"
      ]
     },
     "metadata": {
      "needs_background": "light"
     },
     "output_type": "display_data"
    }
   ],
   "source": [
    "decomposition = sm.tsa.seasonal_decompose(ts, model = 'additive')\n",
    "fig =decomposition.plot()\n",
    "plt.show()"
   ]
  },
  {
   "cell_type": "code",
   "execution_count": 121,
   "id": "01db99bc",
   "metadata": {},
   "outputs": [],
   "source": [
    "from statsmodels.tsa.stattools import adfuller"
   ]
  },
  {
   "cell_type": "code",
   "execution_count": 122,
   "id": "fe29deba",
   "metadata": {},
   "outputs": [],
   "source": [
    "adtest = adfuller(ts)"
   ]
  },
  {
   "cell_type": "code",
   "execution_count": 124,
   "id": "39ab513e",
   "metadata": {},
   "outputs": [
    {
     "name": "stdout",
     "output_type": "stream",
     "text": [
      "0.7709993302141817\n"
     ]
    }
   ],
   "source": [
    "print(adtest[1])"
   ]
  },
  {
   "cell_type": "code",
   "execution_count": 125,
   "id": "852464b5",
   "metadata": {},
   "outputs": [
    {
     "data": {
      "text/plain": [
       "60"
      ]
     },
     "execution_count": 125,
     "metadata": {},
     "output_type": "execute_result"
    }
   ],
   "source": [
    "len(ts)"
   ]
  },
  {
   "cell_type": "code",
   "execution_count": 128,
   "id": "e41b64fa",
   "metadata": {},
   "outputs": [],
   "source": [
    "train = ts[:55]\n",
    "test = ts[55:]"
   ]
  },
  {
   "cell_type": "markdown",
   "id": "b0463785",
   "metadata": {},
   "source": [
    "Hyperparameter for ARIMA p, d, q"
   ]
  },
  {
   "cell_type": "code",
   "execution_count": 131,
   "id": "3bf52acd",
   "metadata": {},
   "outputs": [],
   "source": [
    "import warnings\n",
    "warnings.filterwarnings('ignore')"
   ]
  },
  {
   "cell_type": "code",
   "execution_count": 132,
   "id": "5074e82c",
   "metadata": {},
   "outputs": [],
   "source": [
    "import itertools"
   ]
  },
  {
   "cell_type": "code",
   "execution_count": 133,
   "id": "bac48e19",
   "metadata": {},
   "outputs": [],
   "source": [
    "p = range(0,8)\n",
    "q = range(0,8)\n",
    "d = range(0,2)"
   ]
  },
  {
   "cell_type": "code",
   "execution_count": 134,
   "id": "85d92db0",
   "metadata": {},
   "outputs": [],
   "source": [
    "pdq_combintion = list(itertools.product(p,d,q))"
   ]
  },
  {
   "cell_type": "code",
   "execution_count": 135,
   "id": "516ac44c",
   "metadata": {},
   "outputs": [
    {
     "data": {
      "text/plain": [
       "128"
      ]
     },
     "execution_count": 135,
     "metadata": {},
     "output_type": "execute_result"
    }
   ],
   "source": [
    "len(pdq_combintion)"
   ]
  },
  {
   "cell_type": "code",
   "execution_count": 151,
   "id": "b3b137b3",
   "metadata": {},
   "outputs": [],
   "source": [
    "#pdq_combintion"
   ]
  },
  {
   "cell_type": "code",
   "execution_count": 136,
   "id": "4ea9ccce",
   "metadata": {},
   "outputs": [],
   "source": [
    "rmse = []\n",
    "order1 = []"
   ]
  },
  {
   "cell_type": "code",
   "execution_count": 137,
   "id": "1ee71100",
   "metadata": {},
   "outputs": [],
   "source": [
    "from statsmodels.tsa.arima_model import ARIMA"
   ]
  },
  {
   "cell_type": "code",
   "execution_count": 141,
   "id": "226afdef",
   "metadata": {},
   "outputs": [],
   "source": [
    "from sklearn.metrics import mean_squared_error"
   ]
  },
  {
   "cell_type": "code",
   "execution_count": 182,
   "id": "cbe1f07c",
   "metadata": {},
   "outputs": [],
   "source": [
    "for pdq in pdq_combintion:\n",
    "    try:\n",
    "        pred1 = []\n",
    "        model = sm.tsa.arima.ARIMA(train, order = pdq).fit()\n",
    "        pred = model.predict(start = len(train), end = len((ts) - 1))\n",
    "        pred.values\n",
    "        for i in range(0,5):\n",
    "            pred1.append(pred[i])\n",
    "            \n",
    "        error = np.sqrt(mean_squared_error(test, pred1))\n",
    "\n",
    "        order1.append(pdq)\n",
    "        rmse.append(error)\n",
    "    \n",
    "    except:\n",
    "        continue"
   ]
  },
  {
   "cell_type": "code",
   "execution_count": 186,
   "id": "09ea6f69",
   "metadata": {},
   "outputs": [],
   "source": [
    "#result = pd.DataFrame(index = order1, data = rmse, columns = ['RMSE'])"
   ]
  },
  {
   "cell_type": "code",
   "execution_count": 190,
   "id": "745aeb45",
   "metadata": {},
   "outputs": [
    {
     "data": {
      "text/plain": [
       "1383.7744175520788"
      ]
     },
     "execution_count": 190,
     "metadata": {},
     "output_type": "execute_result"
    }
   ],
   "source": [
    "rmse[108]"
   ]
  },
  {
   "cell_type": "code",
   "execution_count": 189,
   "id": "d952e7fa",
   "metadata": {},
   "outputs": [
    {
     "data": {
      "text/plain": [
       "108"
      ]
     },
     "execution_count": 189,
     "metadata": {},
     "output_type": "execute_result"
    }
   ],
   "source": [
    "rmse.index(min(rmse))"
   ]
  },
  {
   "cell_type": "code",
   "execution_count": 191,
   "id": "2c1f29c7",
   "metadata": {},
   "outputs": [
    {
     "data": {
      "text/plain": [
       "(6, 1, 4)"
      ]
     },
     "execution_count": 191,
     "metadata": {},
     "output_type": "execute_result"
    }
   ],
   "source": [
    "order1[108]"
   ]
  },
  {
   "cell_type": "code",
   "execution_count": null,
   "id": "66678f05",
   "metadata": {},
   "outputs": [],
   "source": []
  },
  {
   "cell_type": "code",
   "execution_count": 165,
   "id": "54c2d5b3",
   "metadata": {},
   "outputs": [
    {
     "name": "stdout",
     "output_type": "stream",
     "text": [
      "55\n",
      "5\n"
     ]
    }
   ],
   "source": [
    "print(len(train))\n",
    "print(len(test))"
   ]
  },
  {
   "cell_type": "code",
   "execution_count": 192,
   "id": "1e0fd96e",
   "metadata": {},
   "outputs": [],
   "source": [
    "model = sm.tsa.arima.ARIMA(train, order= (6, 1, 4)).fit()"
   ]
  },
  {
   "cell_type": "code",
   "execution_count": 193,
   "id": "f0b26642",
   "metadata": {},
   "outputs": [],
   "source": [
    "pred = model.predict(start = len(train), end = len((ts) - 1))"
   ]
  },
  {
   "cell_type": "code",
   "execution_count": 194,
   "id": "72cdf771",
   "metadata": {},
   "outputs": [
    {
     "data": {
      "text/plain": [
       "<AxesSubplot:xlabel='Date'>"
      ]
     },
     "execution_count": 194,
     "metadata": {},
     "output_type": "execute_result"
    },
    {
     "data": {
      "image/png": "[encoded data removed]",
      "text/plain": [
       "<Figure size 720x432 with 1 Axes>"
      ]
     },
     "metadata": {
      "needs_background": "light"
     },
     "output_type": "display_data"
    }
   ],
   "source": [
    "train.plot(legend = True, label = 'Train', figsize = (10,6))\n",
    "test.plot(legend = True, label = 'Test')\n",
    "pred.plot(legend = True, label = 'pred')"
   ]
  },
  {
   "cell_type": "code",
   "execution_count": 195,
   "id": "fa5f2956",
   "metadata": {},
   "outputs": [
    {
     "data": {
      "text/plain": [
       "array([15277.64887474, 15433.69505915, 15204.27483091, 15761.23364029,\n",
       "       15767.27617953, 15727.60163374])"
      ]
     },
     "execution_count": 195,
     "metadata": {},
     "output_type": "execute_result"
    }
   ],
   "source": [
    "pred.values"
   ]
  },
  {
   "cell_type": "code",
   "execution_count": null,
   "id": "bc62e855",
   "metadata": {},
   "outputs": [],
   "source": []
  },
  {
   "cell_type": "code",
   "execution_count": 196,
   "id": "a808d2ea",
   "metadata": {},
   "outputs": [
    {
     "data": {
      "text/plain": [
       "Date\n",
       "2016-08-01    17813.10\n",
       "2016-09-01    16230.79\n",
       "2016-10-01    16596.18\n",
       "2016-11-01    16129.44\n",
       "2016-12-01    16428.57\n",
       "Freq: MS, Name: Open, dtype: float64"
      ]
     },
     "execution_count": 196,
     "metadata": {},
     "output_type": "execute_result"
    }
   ],
   "source": [
    "test"
   ]
  },
  {
   "cell_type": "code",
   "execution_count": null,
   "id": "971028c4",
   "metadata": {},
   "outputs": [],
   "source": []
  },
  {
   "cell_type": "code",
   "execution_count": null,
   "id": "b66c2691",
   "metadata": {},
   "outputs": [],
   "source": []
  }
 ],
 "metadata": {
  "kernelspec": {
   "display_name": "Python 3 (ipykernel)",
   "language": "python",
   "name": "python3"
  },
  "language_info": {
   "codemirror_mode": {
    "name": "ipython",
    "version": 3
   },
   "file_extension": ".py",
   "mimetype": "text/x-python",
   "name": "python",
   "nbconvert_exporter": "python",
   "pygments_lexer": "ipython3",
   "version": "3.9.7"
  }
 },
 "nbformat": 4,
 "nbformat_minor": 5
}
